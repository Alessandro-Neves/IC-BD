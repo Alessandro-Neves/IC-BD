{
 "cells": [
  {
   "cell_type": "code",
   "execution_count": 2,
   "metadata": {},
   "outputs": [],
   "source": [
    "import pandas\n",
    "from functools import reduce\n",
    "import re"
   ]
  },
  {
   "cell_type": "code",
   "execution_count": 3,
   "metadata": {},
   "outputs": [],
   "source": [
    "def invert_expression(expression):\n",
    "    operators = {\n",
    "        '<': '>',\n",
    "        '>': '<',\n",
    "        '<=': '>=',\n",
    "        '>=': '<='\n",
    "    }\n",
    "\n",
    "    pattern = r'(\\d+)\\s*([<>=]+)\\s*(t2\\.\\w+)'\n",
    "    substitution = lambda match: f'{match.group(3)} {operators.get(match.group(2), match.group(2))} {match.group(1)}'\n",
    "\n",
    "    nova_expressao = re.sub(pattern, substitution, expression)\n",
    "    return nova_expressao"
   ]
  }
 ],
 "metadata": {
  "kernelspec": {
   "display_name": "Python 3",
   "language": "python",
   "name": "python3"
  },
  "language_info": {
   "codemirror_mode": {
    "name": "ipython",
    "version": 3
   },
   "file_extension": ".py",
   "mimetype": "text/x-python",
   "name": "python",
   "nbconvert_exporter": "python",
   "pygments_lexer": "ipython3",
   "version": "3.10.5"
  },
  "orig_nbformat": 4
 },
 "nbformat": 4,
 "nbformat_minor": 2
}
