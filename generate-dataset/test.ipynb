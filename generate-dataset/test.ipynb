{
 "cells": [
  {
   "cell_type": "code",
   "execution_count": 1,
   "metadata": {},
   "outputs": [],
   "source": [
    "import pandas"
   ]
  },
  {
   "cell_type": "code",
   "execution_count": 14,
   "metadata": {},
   "outputs": [],
   "source": [
    "df = pandas.read_csv(\"dataset.csv\")"
   ]
  },
  {
   "cell_type": "code",
   "execution_count": 15,
   "metadata": {},
   "outputs": [
    {
     "name": "stdout",
     "output_type": "stream",
     "text": [
      "   id              name    salary    bonus  hiring_year  dismissing_year\n",
      "0   0      Jorge-Cooper   7752.02  1477.18         1994             2007\n",
      "1   1        Jerry-Ford  16363.76  4313.08         1994             2019\n",
      "2   2       Jeanne-Dyer  15010.67  6672.94         1990             2013\n",
      "3   3      Julian-Frank   3889.35   373.16         1999             2023\n",
      "4   4       Joel-Benson   5349.42  5296.70         1997             2001\n",
      "5   5   Karen-Patterson  19674.49  1308.62         1990             1999\n",
      "6   6      Alan-Johnson   2883.47  2601.30         2006             2018\n",
      "7   7       Caleb-Logan   3888.01  2439.53         1990             2012\n",
      "8   8  Jeanne-Hernandez  23817.35   771.99         1990             2012\n",
      "9   9     Dillon-Rogers  13964.64  5630.71         1990             2015\n"
     ]
    }
   ],
   "source": [
    "print(df.head(10))"
   ]
  },
  {
   "cell_type": "code",
   "execution_count": 17,
   "metadata": {},
   "outputs": [
    {
     "name": "stdout",
     "output_type": "stream",
     "text": [
      "Empty DataFrame\n",
      "Columns: [id, name, salary, bonus, hiring_year, dismissing_year]\n",
      "Index: []\n"
     ]
    }
   ],
   "source": [
    "fdf = df[df['salary'] < df['bonus']]\n",
    "print(fdf.head(5))"
   ]
  },
  {
   "cell_type": "code",
   "execution_count": 18,
   "metadata": {},
   "outputs": [
    {
     "name": "stdout",
     "output_type": "stream",
     "text": [
      "Empty DataFrame\n",
      "Columns: [id, name, salary, bonus, hiring_year, dismissing_year]\n",
      "Index: []\n"
     ]
    }
   ],
   "source": [
    "fdf = df[(df['hiring_year'] > df['dismissing_year'])]\n",
    "print(fdf.head(5))"
   ]
  }
 ],
 "metadata": {
  "kernelspec": {
   "display_name": "Python 3",
   "language": "python",
   "name": "python3"
  },
  "language_info": {
   "codemirror_mode": {
    "name": "ipython",
    "version": 3
   },
   "file_extension": ".py",
   "mimetype": "text/x-python",
   "name": "python",
   "nbconvert_exporter": "python",
   "pygments_lexer": "ipython3",
   "version": "3.10.5"
  },
  "orig_nbformat": 4
 },
 "nbformat": 4,
 "nbformat_minor": 2
}
