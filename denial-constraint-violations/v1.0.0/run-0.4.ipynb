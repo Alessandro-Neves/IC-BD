{
 "cells": [
  {
   "cell_type": "code",
   "execution_count": 1,
   "metadata": {},
   "outputs": [
    {
     "name": "stdout",
     "output_type": "stream",
     "text": [
      "Requirement already satisfied: pandas in /home/alessandro/.asdf/installs/python/3.10.5/lib/python3.10/site-packages (1.5.2)\n",
      "Requirement already satisfied: numpy>=1.21.0 in /home/alessandro/.asdf/installs/python/3.10.5/lib/python3.10/site-packages (from pandas) (1.21.3)\n",
      "Requirement already satisfied: python-dateutil>=2.8.1 in /home/alessandro/.asdf/installs/python/3.10.5/lib/python3.10/site-packages (from pandas) (2.8.2)\n",
      "Requirement already satisfied: pytz>=2020.1 in /home/alessandro/.asdf/installs/python/3.10.5/lib/python3.10/site-packages (from pandas) (2023.3)\n",
      "Requirement already satisfied: six>=1.5 in /home/alessandro/.asdf/installs/python/3.10.5/lib/python3.10/site-packages (from python-dateutil>=2.8.1->pandas) (1.16.0)\n",
      "\u001b[33mWARNING: You are using pip version 22.0.4; however, version 23.2.1 is available.\n",
      "You should consider upgrading via the '/home/alessandro/.asdf/installs/python/3.10.5/bin/python3.10 -m pip install --upgrade pip' command.\u001b[0m\u001b[33m\n",
      "\u001b[0m"
     ]
    }
   ],
   "source": [
    "!pip install pandas"
   ]
  },
  {
   "cell_type": "code",
   "execution_count": 2,
   "metadata": {},
   "outputs": [],
   "source": [
    "import pandas\n",
    "dataset = pandas.read_csv('db-a.csv')\n",
    "\n",
    "with open('constraints.txt', 'r') as file:\n",
    "    first_line = file.readline().strip()\n",
    "\n",
    "constraints = first_line.split(',')"
   ]
  },
  {
   "cell_type": "code",
   "execution_count": 3,
   "metadata": {},
   "outputs": [
    {
     "name": "stdout",
     "output_type": "stream",
     "text": [
      "['t1.salario > t2.salario', 't1.ano < t1.ano']\n",
      "\n",
      "   id   ano      departamento  salario\n",
      "0   1  2023  Recursos Humanos    50000\n",
      "1   2  2023            Vendas    60000\n",
      "2   3  2022        Tecnologia    75000\n",
      "3   4  2023         Marketing    55000\n",
      "4   5  2023        Financeiro    70000\n",
      "5   6  2023         Operações    48000\n",
      "6   7  2023          Produção    52000\n"
     ]
    }
   ],
   "source": [
    "print(constraints)\n",
    "print()\n",
    "print(dataset)"
   ]
  },
  {
   "cell_type": "code",
   "execution_count": 4,
   "metadata": {},
   "outputs": [],
   "source": [
    "def split_components(predicate):\n",
    "    components = predicate.split(' ')\n",
    "    return {\n",
    "        't1_col': components[0].split('.')[1],\n",
    "        't2_col': components[2].split('.')[1],\n",
    "        'operator': components[1]\n",
    "    }\n"
   ]
  },
  {
   "cell_type": "code",
   "execution_count": 5,
   "metadata": {},
   "outputs": [],
   "source": [
    "operators = {\n",
    "  '>': lambda a, b: a > b,\n",
    "  '<': lambda a, b: a < b,\n",
    "  '=': lambda a, b: a == b,\n",
    "  '>=': lambda a, b: a >= b,\n",
    "  '<=': lambda a, b: a <= b,\n",
    "  '<>': lambda a, b: a != b,\n",
    "}"
   ]
  },
  {
   "cell_type": "code",
   "execution_count": 6,
   "metadata": {},
   "outputs": [],
   "source": [
    "def constraint_to_lambda_func(constraint):\n",
    "  pc = split_components(constraint)\n",
    "  return lambda t1, t2: operators[pc['operator']](t1[pc['t1_col']], t2[pc['t2_col']])"
   ]
  },
  {
   "cell_type": "code",
   "execution_count": 7,
   "metadata": {},
   "outputs": [],
   "source": [
    "constraints_validations = [ constraint_to_lambda_func(i) for i in constraints]\n",
    "\n",
    "def violates_all_constraints(constraints_validations, t1, t2):\n",
    "  for cv in constraints_validations:\n",
    "    if not cv(t1, t2):\n",
    "      return False\n",
    "  \n",
    "  return True"
   ]
  },
  {
   "cell_type": "code",
   "execution_count": 8,
   "metadata": {},
   "outputs": [],
   "source": [
    "# print(violates_all_constraints(constraints_validations, dataset.iloc[1], dataset.iloc[3]))"
   ]
  },
  {
   "cell_type": "code",
   "execution_count": 9,
   "metadata": {},
   "outputs": [
    {
     "name": "stdout",
     "output_type": "stream",
     "text": [
      "   id   ano      departamento  salario  violation\n",
      "0   1  2023  Recursos Humanos    50000      False\n",
      "1   2  2023            Vendas    60000      False\n",
      "2   3  2022        Tecnologia    75000       True\n",
      "3   4  2023         Marketing    55000      False\n",
      "4   5  2023        Financeiro    70000      False\n",
      "5   6  2023         Operações    48000      False\n",
      "6   7  2023          Produção    52000      False\n"
     ]
    }
   ],
   "source": [
    "tuples_qtd = dataset.shape[0]\n",
    "\n",
    "dataset['violation'] = False\n",
    "\n",
    "for t1_idx in range(tuples_qtd):\n",
    "  for t2_idx in range(t1_idx + 1, tuples_qtd):\n",
    "    t1 = dataset.iloc[t1_idx]\n",
    "    t2 = dataset.iloc[t2_idx]\n",
    "    dataset.at[t1_idx, 'violation'] = violates_all_constraints(constraints_validations, t1, t2)\n",
    "    dataset.at[t2_idx, 'violation'] = violates_all_constraints(constraints_validations, t2, t1)\n",
    "\n",
    "print(dataset)"
   ]
  },
  {
   "cell_type": "code",
   "execution_count": 10,
   "metadata": {},
   "outputs": [
    {
     "name": "stdout",
     "output_type": "stream",
     "text": [
      "   id   ano      departamento  salario  violation              target\n",
      "0   1  2023  Recursos Humanos    50000      False                  []\n",
      "1   2  2023            Vendas    60000      False                  []\n",
      "2   3  2022        Tecnologia    75000       True  [1, 2, 4, 5, 6, 7]\n",
      "3   4  2023         Marketing    55000      False                  []\n",
      "4   5  2023        Financeiro    70000      False                  []\n",
      "5   6  2023         Operações    48000      False                  []\n",
      "6   7  2023          Produção    52000      False                  []\n"
     ]
    }
   ],
   "source": [
    "tuples_qtd = dataset.shape[0]\n",
    "\n",
    "dataset['violation'] = False\n",
    "dataset['target'] = [[] for _ in range(tuples_qtd)]\n",
    "\n",
    "for t1_idx in range(tuples_qtd):\n",
    "  for t2_idx in range(t1_idx + 1, tuples_qtd):\n",
    "    t1 = dataset.iloc[t1_idx]\n",
    "    t2 = dataset.iloc[t2_idx]\n",
    "    dataset.at[t1_idx, 'violation'] = violates_all_constraints(constraints_validations, t1, t2)\n",
    "    dataset.at[t2_idx, 'violation'] = violates_all_constraints(constraints_validations, t2, t1)\n",
    "\n",
    "    if dataset.at[t1_idx, 'violation']:\n",
    "      dataset.at[t1_idx, 'target'].append(t2['id'])\n",
    "\n",
    "    if dataset.at[t2_idx, 'violation']:\n",
    "      dataset.at[t2_idx, 'target'].append(t1['id'])\n",
    "\n",
    "print(dataset)"
   ]
  }
 ],
 "metadata": {
  "kernelspec": {
   "display_name": "Python 3",
   "language": "python",
   "name": "python3"
  },
  "language_info": {
   "codemirror_mode": {
    "name": "ipython",
    "version": 3
   },
   "file_extension": ".py",
   "mimetype": "text/x-python",
   "name": "python",
   "nbconvert_exporter": "python",
   "pygments_lexer": "ipython3",
   "version": "3.10.5"
  },
  "orig_nbformat": 4
 },
 "nbformat": 4,
 "nbformat_minor": 2
}
