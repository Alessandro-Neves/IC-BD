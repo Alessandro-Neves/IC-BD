{
 "cells": [
  {
   "cell_type": "code",
   "execution_count": 1,
   "metadata": {},
   "outputs": [],
   "source": [
    "import pandas\n",
    "import duckdb"
   ]
  },
  {
   "cell_type": "code",
   "execution_count": 2,
   "metadata": {},
   "outputs": [
    {
     "name": "stdout",
     "output_type": "stream",
     "text": [
      "30000\n"
     ]
    }
   ],
   "source": [
    "df = pandas.read_csv(\"spotify_30k.csv\")\n",
    "print(len(df))"
   ]
  },
  {
   "cell_type": "code",
   "execution_count": 3,
   "metadata": {},
   "outputs": [],
   "source": [
    "con = duckdb.connect(database=':memory:')"
   ]
  },
  {
   "cell_type": "code",
   "execution_count": 4,
   "metadata": {},
   "outputs": [
    {
     "data": {
      "text/plain": [
       "<duckdb.DuckDBPyConnection at 0x7ff9b284a4f0>"
      ]
     },
     "execution_count": 4,
     "metadata": {},
     "output_type": "execute_result"
    }
   ],
   "source": [
    "con.register('T', df)"
   ]
  },
  {
   "cell_type": "code",
   "execution_count": 5,
   "metadata": {},
   "outputs": [
    {
     "name": "stdout",
     "output_type": "stream",
     "text": [
      "74\n",
      "22929\n",
      "<pandas.core.indexing._iLocIndexer object at 0x7ff97bc80f40>\n"
     ]
    }
   ],
   "source": [
    "res = con.execute(\"\"\"\n",
    "    SELECT * \n",
    "    FROM \n",
    "        T t1 \n",
    "    JOIN \n",
    "        T t2 \n",
    "    ON \n",
    "        t1.duration_ms = t2.duration_ms \n",
    "    AND\n",
    "        t1.danceability = t1.energy\n",
    "    AND \n",
    "      t1.id <> t2.id;\n",
    "  \"\"\").df()\n",
    "\n",
    "print(len(res))\n",
    "\n",
    "if len(res):\n",
    "  print(res.at[0, 'id'])\n",
    "  print(res.iloc(0))"
   ]
  }
 ],
 "metadata": {
  "kernelspec": {
   "display_name": "Python 3",
   "language": "python",
   "name": "python3"
  },
  "language_info": {
   "codemirror_mode": {
    "name": "ipython",
    "version": 3
   },
   "file_extension": ".py",
   "mimetype": "text/x-python",
   "name": "python",
   "nbconvert_exporter": "python",
   "pygments_lexer": "ipython3",
   "version": "3.10.5"
  },
  "orig_nbformat": 4
 },
 "nbformat": 4,
 "nbformat_minor": 2
}
