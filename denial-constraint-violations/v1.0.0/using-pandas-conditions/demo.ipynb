{
 "cells": [
  {
   "cell_type": "code",
   "execution_count": 1,
   "metadata": {},
   "outputs": [
    {
     "name": "stdout",
     "output_type": "stream",
     "text": [
      "Requirement already satisfied: pandas in /home/alessandro/.asdf/installs/python/3.10.5/lib/python3.10/site-packages (1.5.2)\n",
      "Requirement already satisfied: numpy>=1.21.0 in /home/alessandro/.asdf/installs/python/3.10.5/lib/python3.10/site-packages (from pandas) (1.21.3)\n",
      "Requirement already satisfied: python-dateutil>=2.8.1 in /home/alessandro/.asdf/installs/python/3.10.5/lib/python3.10/site-packages (from pandas) (2.8.2)\n",
      "Requirement already satisfied: pytz>=2020.1 in /home/alessandro/.asdf/installs/python/3.10.5/lib/python3.10/site-packages (from pandas) (2023.3)\n",
      "Requirement already satisfied: six>=1.5 in /home/alessandro/.asdf/installs/python/3.10.5/lib/python3.10/site-packages (from python-dateutil>=2.8.1->pandas) (1.16.0)\n",
      "\u001b[33mWARNING: You are using pip version 22.0.4; however, version 23.2.1 is available.\n",
      "You should consider upgrading via the '/home/alessandro/.asdf/installs/python/3.10.5/bin/python3.10 -m pip install --upgrade pip' command.\u001b[0m\u001b[33m\n",
      "\u001b[0m"
     ]
    }
   ],
   "source": [
    "# accepted constraints pattern:\n",
    "#   t1.<col_name> <bool operator> t2.<col_name>\n",
    "#   t1.<col_name> <bool operator> <scalar_value>\n",
    "\n",
    "!pip install pandas"
   ]
  },
  {
   "cell_type": "code",
   "execution_count": 2,
   "metadata": {},
   "outputs": [],
   "source": [
    "import pandas\n",
    "from functools import reduce\n",
    "import re"
   ]
  },
  {
   "cell_type": "code",
   "execution_count": 3,
   "metadata": {},
   "outputs": [],
   "source": [
    "def check_constraint_sintax(constraint):\n",
    "  pattern1 = r\"t1\\..*\\s+[<>=!]+\\s+t2\\..*\"\n",
    "  pattern2 = r\"t1\\..*\\s+[<>=!]+\\s+(?:\\d+|\\'.*\\'|\\\".*\\\")\"          # TODO: retirar t1.* right side \n",
    "\n",
    "  if re.match(pattern1, constraint) or re.match(pattern2, constraint):\n",
    "    return True\n",
    "  else:\n",
    "    print(f\"invalid constraint sintax: {constraint}\")\n",
    "    exit(0)\n",
    "\n",
    "def has_scalar_value_compare(constraint):\n",
    "  pattern = r\"t1\\..*\\s+[<>=!]+\\s+t2\\..*\"\n",
    "  return False if re.match(pattern, constraint) else True\n",
    "\n",
    "def to_number_else_str(input_string):\n",
    "  if input_string.isdigit() or (input_string[0] == '-' and input_string[1:].isdigit()):\n",
    "      return int(input_string)\n",
    "  else:\n",
    "      return input_string\n",
    "\n",
    "def get_col_name(alias, constraint):\n",
    "  pattern = re.escape(alias) + r'\\.(\\w+)'\n",
    "  correspondences = re.findall(pattern, constraint)\n",
    "  if correspondences:\n",
    "      return correspondences[0]\n",
    "  return None\n",
    "\n",
    "operators_fn = {\n",
    "  '>': lambda scalar, df, col: scalar > df[col],\n",
    "  '<': lambda scalar, df, col: scalar < df[col],\n",
    "  '=': lambda scalar, df, col: scalar == df[col],\n",
    "  '>=': lambda scalar, df, col: scalar >= df[col],\n",
    "  '<=': lambda scalar, df, col: scalar <= df[col],\n",
    "  '<>': lambda scalar, df, col: scalar != df[col],\n",
    "}\n",
    "\n",
    "def gen_pandas_condition(df, lcs, col_alias):\n",
    "    \n",
    "  scalar = to_number_else_str(lcs.split(' ')[0])\n",
    "  operator = lcs.split(' ')[1]\n",
    "  col = get_col_name(col_alias, lcs)\n",
    "\n",
    "  return operators_fn[operator](scalar, df, col)\n",
    "\n",
    "def invert_expression(expression):\n",
    "  operators = {\n",
    "    '<': '>',\n",
    "    '>': '<',\n",
    "    '<=': '>=',\n",
    "    '>=': '<=',\n",
    "    '!=': '!='\n",
    "  }\n",
    "\n",
    "  pattern = r'(t1\\.\\w+)\\s*([><=]+)\\s*(\\d+)'\n",
    "\n",
    "  substitution = lambda match: f'{match.group(3)} {operators.get(match.group(2), match.group(2))} {match.group(1)}'\n",
    "\n",
    "  new_expression = re.sub(pattern, substitution, expression)\n",
    "  return new_expression\n",
    "\n",
    "def switch_t1_by_scalar(constraint, value):\n",
    "    pattern = r't1\\.\\w+'\n",
    "    new_expression = re.sub(pattern, str(value), constraint)\n",
    "    return new_expression\n",
    "\n",
    "def resolve_left_side_constraints(df_tuple, constraints):\n",
    "  lcs = []\n",
    "  for cs in constraints:\n",
    "    t1_col_name = get_col_name('t1', cs)\n",
    "    t1_value = df_tuple[t1_col_name]\n",
    "    new_cs = switch_t1_by_scalar(cs, t1_value)\n",
    "    lcs.append(new_cs)\n",
    "\n",
    "  return lcs"
   ]
  },
  {
   "cell_type": "code",
   "execution_count": null,
   "metadata": {},
   "outputs": [],
   "source": [
    "############################# EXEC ################################"
   ]
  },
  {
   "cell_type": "code",
   "execution_count": 4,
   "metadata": {},
   "outputs": [
    {
     "name": "stdout",
     "output_type": "stream",
     "text": [
      "   id   ano      departamento  salario   bonus\n",
      "0   1  2023  Recursos Humanos    50000   10000\n",
      "1   2  2023            Vendas    60000  350000\n",
      "2   3  2022        Tecnologia    75000  100000\n",
      "3   4  2024         Marketing    55000   80000\n",
      "4   5  2023        Financeiro    70000   90000\n",
      "5   6  2023         Operações    48000       0\n"
     ]
    }
   ],
   "source": [
    "df = pandas.read_csv('db-a.csv')\n",
    "\n",
    "with open('constraints.txt', 'r') as file:\n",
    "  first_line = file.readline().strip()\n",
    "\n",
    "constraints = first_line.split(',')\n",
    "\n",
    "for cs in constraints:\n",
    "  check_constraint_sintax(cs)\n",
    "\n",
    "print(df)"
   ]
  },
  {
   "cell_type": "code",
   "execution_count": 5,
   "metadata": {},
   "outputs": [
    {
     "name": "stdout",
     "output_type": "stream",
     "text": [
      "['t1.ano >= 2023']\n",
      "['t1.salario > t2.salario']\n"
     ]
    }
   ],
   "source": [
    "scalar_constraints = list(filter(has_scalar_value_compare, constraints))\n",
    "relational_constraints = [cs for cs in constraints if cs not in scalar_constraints]\n",
    "print(scalar_constraints)\n",
    "print(relational_constraints)"
   ]
  },
  {
   "cell_type": "code",
   "execution_count": 6,
   "metadata": {},
   "outputs": [
    {
     "name": "stdout",
     "output_type": "stream",
     "text": [
      "   id   ano      departamento  salario   bonus\n",
      "0   1  2023  Recursos Humanos    50000   10000\n",
      "1   2  2023            Vendas    60000  350000\n",
      "3   4  2024         Marketing    55000   80000\n",
      "4   5  2023        Financeiro    70000   90000\n",
      "5   6  2023         Operações    48000       0\n"
     ]
    }
   ],
   "source": [
    "constraints_scalar_left_side = [ invert_expression(sc) for sc in  scalar_constraints]\n",
    "pandas_scalar_conditions = [ gen_pandas_condition(df, csl, 't1') for csl in constraints_scalar_left_side ]\n",
    "\n",
    "df_filtered_by_scalar_ex = df[reduce(lambda x, y: x & y, pandas_scalar_conditions)]\n",
    "print(df_filtered_by_scalar_ex)"
   ]
  },
  {
   "cell_type": "code",
   "execution_count": 7,
   "metadata": {},
   "outputs": [],
   "source": [
    "tuples_qtd = df.shape[0]\n",
    "df['violations'] = 0\n",
    "df['targets'] = [[] for _ in range(tuples_qtd)]"
   ]
  },
  {
   "cell_type": "code",
   "execution_count": 8,
   "metadata": {},
   "outputs": [
    {
     "name": "stdout",
     "output_type": "stream",
     "text": [
      "['t1.salario > t2.salario', 't1.ano >= 2023']\n",
      "\n",
      "   id   ano      departamento  salario   bonus  violations       targets\n",
      "0   1  2023  Recursos Humanos    50000   10000           1           [6]\n",
      "1   2  2023            Vendas    60000  350000           3     [1, 4, 6]\n",
      "2   3  2022        Tecnologia    75000  100000           0            []\n",
      "3   4  2024         Marketing    55000   80000           2        [1, 6]\n",
      "4   5  2023        Financeiro    70000   90000           4  [1, 2, 4, 6]\n",
      "5   6  2023         Operações    48000       0           0            []\n"
     ]
    }
   ],
   "source": [
    "for idx, line in df_filtered_by_scalar_ex.iterrows():\n",
    "  left_resolved_constraints = resolve_left_side_constraints(line, relational_constraints)\n",
    "  pandas_conditions = [ gen_pandas_condition(df, lcs, 't2') for lcs in left_resolved_constraints ]\n",
    "  pandas_conditions_set = reduce(lambda x, y: x & y, pandas_conditions)\n",
    "  violations_ids = df[pandas_conditions_set]['id'].to_list()\n",
    "  df.at[idx, 'violations'] = len(violations_ids)\n",
    "  df.at[idx, 'targets'] = violations_ids\n",
    "\n",
    "print(constraints, end='\\n\\n')\n",
    "print(df)"
   ]
  }
 ],
 "metadata": {
  "kernelspec": {
   "display_name": "Python 3",
   "language": "python",
   "name": "python3"
  },
  "language_info": {
   "codemirror_mode": {
    "name": "ipython",
    "version": 3
   },
   "file_extension": ".py",
   "mimetype": "text/x-python",
   "name": "python",
   "nbconvert_exporter": "python",
   "pygments_lexer": "ipython3",
   "version": "3.10.5"
  },
  "orig_nbformat": 4
 },
 "nbformat": 4,
 "nbformat_minor": 2
}
