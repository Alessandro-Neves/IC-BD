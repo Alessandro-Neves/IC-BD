{
 "cells": [
  {
   "cell_type": "code",
   "execution_count": 29,
   "metadata": {},
   "outputs": [
    {
     "name": "stdout",
     "output_type": "stream",
     "text": [
      "Requirement already satisfied: pandas in /home/alessandro/.asdf/installs/python/3.10.5/lib/python3.10/site-packages (1.5.2)\n",
      "Requirement already satisfied: pytz>=2020.1 in /home/alessandro/.asdf/installs/python/3.10.5/lib/python3.10/site-packages (from pandas) (2023.3)\n",
      "Requirement already satisfied: numpy>=1.21.0 in /home/alessandro/.asdf/installs/python/3.10.5/lib/python3.10/site-packages (from pandas) (1.21.3)\n",
      "Requirement already satisfied: python-dateutil>=2.8.1 in /home/alessandro/.asdf/installs/python/3.10.5/lib/python3.10/site-packages (from pandas) (2.8.2)\n",
      "Requirement already satisfied: six>=1.5 in /home/alessandro/.asdf/installs/python/3.10.5/lib/python3.10/site-packages (from python-dateutil>=2.8.1->pandas) (1.16.0)\n",
      "\u001b[33mWARNING: You are using pip version 22.0.4; however, version 23.2.1 is available.\n",
      "You should consider upgrading via the '/home/alessandro/.asdf/installs/python/3.10.5/bin/python3.10 -m pip install --upgrade pip' command.\u001b[0m\u001b[33m\n",
      "\u001b[0m"
     ]
    }
   ],
   "source": [
    "# accepted constraints pattern:\n",
    "#   t1.<col_name> <bool operator> t2.<col_name>\n",
    "#   t1.<col_name> <bool operator> <scalar_value>\n",
    "\n",
    "!pip install pandas"
   ]
  },
  {
   "cell_type": "code",
   "execution_count": 30,
   "metadata": {},
   "outputs": [],
   "source": [
    "import pandas\n",
    "from functools import reduce\n",
    "import re"
   ]
  },
  {
   "cell_type": "code",
   "execution_count": 31,
   "metadata": {},
   "outputs": [],
   "source": [
    "def check_constraint_sintax(constraint):\n",
    "    pattern1 = r\"t1\\..*\\s+[<>=!]+\\s+t2\\..*\"\n",
    "    pattern2 = r\"t1\\..*\\s+[<>=!]+\\s+(?:\\d+|\\'.*\\'|\\\".*\\\")\"          # TODO: retirar t1.* right side \n",
    "\n",
    "    if re.match(pattern1, constraint) or re.match(pattern2, constraint):\n",
    "        return True\n",
    "    else:\n",
    "        print(f\"invalid constraint sintax: {constraint}\")\n",
    "        return False"
   ]
  },
  {
   "cell_type": "code",
   "execution_count": 32,
   "metadata": {},
   "outputs": [],
   "source": [
    "def has_scalar_value_compare(constraint):\n",
    "    pattern = r\"t1\\..*\\s+[<>=!]+\\s+t2\\..*\"\n",
    "    return False if re.match(pattern, constraint) else True"
   ]
  },
  {
   "cell_type": "code",
   "execution_count": 33,
   "metadata": {},
   "outputs": [],
   "source": [
    "def to_number_else_str(input_string):\n",
    "    if input_string.isdigit() or (input_string[0] == '-' and input_string[1:].isdigit()):\n",
    "        return int(input_string)\n",
    "    else:\n",
    "        return input_string\n",
    "\n",
    "def get_col_name(alias, constraint):\n",
    "    pattern = re.escape(alias) + r'\\.(\\w+)'\n",
    "    correspondences = re.findall(pattern, constraint)\n",
    "    if correspondences:\n",
    "        return correspondences[0]\n",
    "    return None"
   ]
  },
  {
   "cell_type": "code",
   "execution_count": 34,
   "metadata": {},
   "outputs": [],
   "source": [
    "operators_fn = {\n",
    "  '>': lambda scalar, df, col: scalar > df[col],\n",
    "  '<': lambda scalar, df, col: scalar < df[col],\n",
    "  '=': lambda scalar, df, col: scalar == df[col],\n",
    "  '>=': lambda scalar, df, col: scalar >= df[col],\n",
    "  '<=': lambda scalar, df, col: scalar <= df[col],\n",
    "  '<>': lambda scalar, df, col: scalar != df[col],\n",
    "}\n",
    "\n",
    "def gen_pandas_condition(df, lcs, col_alias):\n",
    "    \n",
    "    scalar = to_number_else_str(lcs.split(' ')[0])\n",
    "    operator = lcs.split(' ')[1]\n",
    "    col = get_col_name(col_alias, lcs)\n",
    "\n",
    "    return operators_fn[operator](scalar, df, col)"
   ]
  },
  {
   "cell_type": "code",
   "execution_count": 35,
   "metadata": {},
   "outputs": [],
   "source": [
    "def invert_expression(expression):\n",
    "    operators = {\n",
    "        '<': '>',\n",
    "        '>': '<',\n",
    "        '<=': '>=',\n",
    "        '>=': '<=',\n",
    "        '!=': '!=',\n",
    "        '=': '='\n",
    "    }\n",
    "\n",
    "    pattern = r'(t1\\.\\w+)\\s*([><=]+)\\s*(\\d+)'\n",
    "\n",
    "    substitution = lambda match: f'{match.group(3)} {operators.get(match.group(2), match.group(2))} {match.group(1)}'\n",
    "\n",
    "    new_expression = re.sub(pattern, substitution, expression)\n",
    "    return new_expression"
   ]
  },
  {
   "cell_type": "code",
   "execution_count": 36,
   "metadata": {},
   "outputs": [],
   "source": [
    "def switch_t1_by_scalar(constraint, value):\n",
    "    pattern = r't1\\.\\w+'\n",
    "    new_expression = re.sub(pattern, str(value), constraint)\n",
    "    return new_expression\n",
    "\n",
    "def resolve_left_side_constraints(df_tuple, constraints):\n",
    "  lcs = []\n",
    "  for cs in constraints:\n",
    "    t1_col_name = get_col_name('t1', cs)\n",
    "    t1_value = df_tuple[t1_col_name]\n",
    "    new_cs = switch_t1_by_scalar(cs, t1_value)\n",
    "    lcs.append(new_cs)\n",
    "\n",
    "  return lcs"
   ]
  },
  {
   "cell_type": "code",
   "execution_count": 37,
   "metadata": {},
   "outputs": [],
   "source": [
    "########################## EXEC ##########################"
   ]
  },
  {
   "cell_type": "code",
   "execution_count": 38,
   "metadata": {},
   "outputs": [],
   "source": [
    "employes_df = pandas.read_csv('employes.csv')\n",
    "departments_df = pandas.read_csv('departments.csv')\n",
    "\n",
    "df = pandas.merge(employes_df, departments_df, how='left', on='departamento_id')"
   ]
  },
  {
   "cell_type": "code",
   "execution_count": 39,
   "metadata": {},
   "outputs": [
    {
     "name": "stdout",
     "output_type": "stream",
     "text": [
      "   id   ano  departamento_id  salario\n",
      "0   1  2023                3    50000\n",
      "1   2  2023                2   100000\n",
      "2   3  2022                4    75000\n",
      "3   4  2024                1    55000\n",
      "4   5  2023                1    70000\n",
      "5   6  2023                5    48000\n",
      "\n",
      "   departamento_id departamento   bonus\n",
      "0                1    Marketing    3500\n",
      "1                2       Vendas  350000\n",
      "2                3   Tecnologia  100000\n",
      "3                4    Operações   80000\n",
      "4                5   Financeiro    9000\n",
      "\n",
      "   id   ano  departamento_id  salario departamento   bonus\n",
      "0   1  2023                3    50000   Tecnologia  100000\n",
      "1   2  2023                2   100000       Vendas  350000\n",
      "2   3  2022                4    75000    Operações   80000\n",
      "3   4  2024                1    55000    Marketing    3500\n",
      "4   5  2023                1    70000    Marketing    3500\n",
      "5   6  2023                5    48000   Financeiro    9000\n"
     ]
    }
   ],
   "source": [
    "print(employes_df, end='\\n\\n')\n",
    "print(departments_df, end='\\n\\n')\n",
    "print(df)"
   ]
  },
  {
   "cell_type": "code",
   "execution_count": 40,
   "metadata": {},
   "outputs": [],
   "source": [
    "with open('constraints.txt', 'r') as file:\n",
    "    first_line = file.readline().strip()\n",
    "\n",
    "constraints = first_line.split(',')"
   ]
  },
  {
   "cell_type": "code",
   "execution_count": 41,
   "metadata": {},
   "outputs": [
    {
     "name": "stdout",
     "output_type": "stream",
     "text": [
      "['t1.salario > t2.salario', 't1.ano < t2.ano']\n",
      "\n",
      "   id   ano  departamento_id  salario departamento   bonus\n",
      "0   1  2023                3    50000   Tecnologia  100000\n",
      "1   2  2023                2   100000       Vendas  350000\n",
      "2   3  2022                4    75000    Operações   80000\n",
      "3   4  2024                1    55000    Marketing    3500\n",
      "4   5  2023                1    70000    Marketing    3500\n",
      "5   6  2023                5    48000   Financeiro    9000\n"
     ]
    }
   ],
   "source": [
    "print(constraints)\n",
    "print()\n",
    "print(df)"
   ]
  },
  {
   "cell_type": "code",
   "execution_count": 42,
   "metadata": {},
   "outputs": [],
   "source": [
    "for cs in constraints:\n",
    "  check_constraint_sintax(cs)"
   ]
  },
  {
   "cell_type": "code",
   "execution_count": 43,
   "metadata": {},
   "outputs": [],
   "source": [
    "scalar_constraints = list(filter(has_scalar_value_compare, constraints))\n",
    "relational_constraints = [cs for cs in constraints if cs not in scalar_constraints]"
   ]
  },
  {
   "cell_type": "code",
   "execution_count": 44,
   "metadata": {},
   "outputs": [
    {
     "name": "stdout",
     "output_type": "stream",
     "text": [
      "[]\n",
      "['t1.salario > t2.salario', 't1.ano < t2.ano']\n"
     ]
    }
   ],
   "source": [
    "print(scalar_constraints)\n",
    "print(relational_constraints)"
   ]
  },
  {
   "cell_type": "code",
   "execution_count": 45,
   "metadata": {},
   "outputs": [],
   "source": [
    "df_filtered_by_scalar_ex = df\n",
    "\n",
    "if len(scalar_constraints):\n",
    "  constraints_scalar_left_side = [ invert_expression(sc) for sc in  scalar_constraints]\n",
    "  pandas_scalar_conditions = [ gen_pandas_condition(df, csl, 't1') for csl in constraints_scalar_left_side ]\n",
    "  df_filtered_by_scalar_ex = df[reduce(lambda x, y: x & y, pandas_scalar_conditions)]\n",
    "\n",
    "  print(scalar_constraints)\n",
    "  print(constraints_scalar_left_side)\n"
   ]
  },
  {
   "cell_type": "code",
   "execution_count": 46,
   "metadata": {},
   "outputs": [
    {
     "name": "stdout",
     "output_type": "stream",
     "text": [
      "   id   ano  departamento_id  salario departamento   bonus\n",
      "0   1  2023                3    50000   Tecnologia  100000\n",
      "1   2  2023                2   100000       Vendas  350000\n",
      "2   3  2022                4    75000    Operações   80000\n",
      "3   4  2024                1    55000    Marketing    3500\n",
      "4   5  2023                1    70000    Marketing    3500\n",
      "5   6  2023                5    48000   Financeiro    9000\n"
     ]
    }
   ],
   "source": [
    "print(df_filtered_by_scalar_ex)"
   ]
  },
  {
   "cell_type": "code",
   "execution_count": 47,
   "metadata": {},
   "outputs": [],
   "source": [
    "tuples_qtd = df.shape[0]\n",
    "\n",
    "df['violations'] = 0\n",
    "df['targets'] = [[] for _ in range(tuples_qtd)]"
   ]
  },
  {
   "cell_type": "code",
   "execution_count": 48,
   "metadata": {},
   "outputs": [
    {
     "name": "stdout",
     "output_type": "stream",
     "text": [
      "['t1.salario > t2.salario', 't1.ano < t2.ano']\n",
      "\n",
      "   id   ano  departamento_id  salario departamento   bonus  violations  \\\n",
      "0   1  2023                3    50000   Tecnologia  100000           0   \n",
      "1   2  2023                2   100000       Vendas  350000           1   \n",
      "2   3  2022                4    75000    Operações   80000           4   \n",
      "3   4  2024                1    55000    Marketing    3500           0   \n",
      "4   5  2023                1    70000    Marketing    3500           1   \n",
      "5   6  2023                5    48000   Financeiro    9000           0   \n",
      "\n",
      "        targets  \n",
      "0            []  \n",
      "1           [4]  \n",
      "2  [1, 4, 5, 6]  \n",
      "3            []  \n",
      "4           [4]  \n",
      "5            []  \n"
     ]
    }
   ],
   "source": [
    "if bool(len(relational_constraints)):\n",
    "  for idx, line in df_filtered_by_scalar_ex.iterrows():\n",
    "    left_resolved_constraints = resolve_left_side_constraints(line, relational_constraints)\n",
    "    pandas_conditions = [ gen_pandas_condition(df, lcs, 't2') for lcs in left_resolved_constraints ]\n",
    "    pandas_conditions_set = reduce(lambda x, y: x & y, pandas_conditions)\n",
    "    violations_ids = df[pandas_conditions_set]['id'].to_list()\n",
    "    df.at[idx, 'violations'] = len(violations_ids)\n",
    "    df.at[idx, 'targets'] = violations_ids\n",
    "\n",
    "else:\n",
    "  for idx, line in df_filtered_by_scalar_ex.iterrows():\n",
    "    df.at[idx, 'violations'] = 1\n",
    "    df.at[idx, 'targets'] = [line['id']]\n",
    "\n",
    "print(constraints, end='\\n\\n')\n",
    "print(df)"
   ]
  }
 ],
 "metadata": {
  "kernelspec": {
   "display_name": "Python 3",
   "language": "python",
   "name": "python3"
  },
  "language_info": {
   "codemirror_mode": {
    "name": "ipython",
    "version": 3
   },
   "file_extension": ".py",
   "mimetype": "text/x-python",
   "name": "python",
   "nbconvert_exporter": "python",
   "pygments_lexer": "ipython3",
   "version": "3.10.5"
  },
  "orig_nbformat": 4
 },
 "nbformat": 4,
 "nbformat_minor": 2
}
