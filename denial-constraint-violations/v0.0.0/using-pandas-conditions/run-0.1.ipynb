{
 "cells": [
  {
   "cell_type": "code",
   "execution_count": 1,
   "metadata": {},
   "outputs": [
    {
     "name": "stdout",
     "output_type": "stream",
     "text": [
      "Requirement already satisfied: pandas in /home/alessandro/.asdf/installs/python/3.10.5/lib/python3.10/site-packages (1.5.2)\n",
      "Requirement already satisfied: python-dateutil>=2.8.1 in /home/alessandro/.asdf/installs/python/3.10.5/lib/python3.10/site-packages (from pandas) (2.8.2)\n",
      "Requirement already satisfied: pytz>=2020.1 in /home/alessandro/.asdf/installs/python/3.10.5/lib/python3.10/site-packages (from pandas) (2023.3)\n",
      "Requirement already satisfied: numpy>=1.21.0 in /home/alessandro/.asdf/installs/python/3.10.5/lib/python3.10/site-packages (from pandas) (1.21.3)\n",
      "Requirement already satisfied: six>=1.5 in /home/alessandro/.asdf/installs/python/3.10.5/lib/python3.10/site-packages (from python-dateutil>=2.8.1->pandas) (1.16.0)\n",
      "\u001b[33mWARNING: You are using pip version 22.0.4; however, version 23.2.1 is available.\n",
      "You should consider upgrading via the '/home/alessandro/.asdf/installs/python/3.10.5/bin/python3.10 -m pip install --upgrade pip' command.\u001b[0m\u001b[33m\n",
      "\u001b[0m"
     ]
    }
   ],
   "source": [
    "!pip install pandas"
   ]
  },
  {
   "cell_type": "code",
   "execution_count": 2,
   "metadata": {},
   "outputs": [],
   "source": [
    "import pandas\n",
    "from functools import reduce\n",
    "import re\n",
    "\n",
    "df = pandas.read_csv('db-a.csv')\n",
    "df_mirror = df\n",
    "\n",
    "with open('constraints.txt', 'r') as file:\n",
    "    first_line = file.readline().strip()\n",
    "\n",
    "constraints = first_line.split(',')"
   ]
  },
  {
   "cell_type": "code",
   "execution_count": 3,
   "metadata": {},
   "outputs": [
    {
     "name": "stdout",
     "output_type": "stream",
     "text": [
      "['t1.salario > t2.salario', 't1.ano < t2.ano']\n",
      "\n",
      "   id   ano      departamento  salario   bonus\n",
      "0   1  2023  Recursos Humanos    50000   10000\n",
      "1   2  2023            Vendas    60000  350000\n",
      "2   3  2022        Tecnologia    75000  100000\n",
      "3   4  2024         Marketing    55000   80000\n",
      "4   5  2023        Financeiro    70000   90000\n",
      "5   6  2023         Operações    48000       0\n"
     ]
    }
   ],
   "source": [
    "print(constraints)\n",
    "print()\n",
    "print(df)"
   ]
  },
  {
   "cell_type": "code",
   "execution_count": 4,
   "metadata": {},
   "outputs": [],
   "source": [
    "def get_col_name(alias, constraint):\n",
    "    pattern = re.escape(alias) + r'\\.(\\w+)'\n",
    "    correspondences = re.findall(pattern, constraint)\n",
    "    if correspondences:\n",
    "        return correspondences[0]\n",
    "    return None"
   ]
  },
  {
   "cell_type": "code",
   "execution_count": 5,
   "metadata": {},
   "outputs": [
    {
     "name": "stdout",
     "output_type": "stream",
     "text": [
      "salario\n",
      "bonus\n"
     ]
    }
   ],
   "source": [
    "print(get_col_name('t1', 't1.salario >= t2.bonus'))\n",
    "print(get_col_name('t2', 't1.salario >= t2.bonus'))"
   ]
  },
  {
   "cell_type": "code",
   "execution_count": 6,
   "metadata": {},
   "outputs": [],
   "source": [
    "def switch_t1_by_scalar(constraint, value):\n",
    "    pattern = r't1\\.\\w+'\n",
    "    new_expression = re.sub(pattern, str(value), constraint)\n",
    "    return new_expression\n",
    "\n",
    "def resolve_left_side_constraints(df_tuple, constraints):\n",
    "  lcs = []\n",
    "  for cs in constraints:\n",
    "    t1_col_name = get_col_name('t1', cs)\n",
    "    t1_value = df_tuple[t1_col_name]\n",
    "    new_cs = switch_t1_by_scalar(cs, t1_value)\n",
    "    lcs.append(new_cs)\n",
    "\n",
    "  return lcs"
   ]
  },
  {
   "cell_type": "code",
   "execution_count": 7,
   "metadata": {},
   "outputs": [
    {
     "data": {
      "text/plain": [
       "['50000 > t2.salario', '2023 < t2.ano']"
      ]
     },
     "execution_count": 7,
     "metadata": {},
     "output_type": "execute_result"
    }
   ],
   "source": [
    "df_tuple = df.iloc[0]\n",
    "resolve_left_side_constraints(df_tuple, constraints)"
   ]
  },
  {
   "cell_type": "code",
   "execution_count": 8,
   "metadata": {},
   "outputs": [],
   "source": [
    "def to_number_else_str(input_string):\n",
    "    if input_string.isdigit() or (input_string[0] == '-' and input_string[1:].isdigit()):\n",
    "        return int(input_string)\n",
    "    else:\n",
    "        return input_string"
   ]
  },
  {
   "cell_type": "code",
   "execution_count": 9,
   "metadata": {},
   "outputs": [],
   "source": [
    "operators_fn = {\n",
    "  '>': lambda scalar, df, col: scalar > df[col],\n",
    "  '<': lambda scalar, df, col: scalar < df[col],\n",
    "  '=': lambda scalar, df, col: scalar == df[col],\n",
    "  '>=': lambda scalar, df, col: scalar >= df[col],\n",
    "  '<=': lambda scalar, df, col: scalar <= df[col],\n",
    "  '<>': lambda scalar, df, col: scalar != df[col],\n",
    "}\n",
    "\n",
    "def gen_pandas_condition(df, lcs):\n",
    "    \n",
    "    scalar = to_number_else_str(lcs.split(' ')[0])\n",
    "    operator = lcs.split(' ')[1]\n",
    "    col = get_col_name('t2', lcs)\n",
    "\n",
    "    return operators_fn[operator](scalar, df, col)"
   ]
  },
  {
   "cell_type": "code",
   "execution_count": 10,
   "metadata": {},
   "outputs": [
    {
     "name": "stdout",
     "output_type": "stream",
     "text": [
      "['t1.salario > t2.salario', 't1.ano < t2.ano']\n",
      "['50000 > t2.salario', '2023 < t2.ano']\n",
      "[]\n",
      "\n",
      "['t1.salario > t2.salario', 't1.ano < t2.ano']\n",
      "['60000 > t2.salario', '2023 < t2.ano']\n",
      "[4]\n",
      "\n",
      "['t1.salario > t2.salario', 't1.ano < t2.ano']\n",
      "['75000 > t2.salario', '2022 < t2.ano']\n",
      "[1, 2, 4, 5, 6]\n",
      "\n",
      "['t1.salario > t2.salario', 't1.ano < t2.ano']\n",
      "['55000 > t2.salario', '2024 < t2.ano']\n",
      "[]\n",
      "\n",
      "['t1.salario > t2.salario', 't1.ano < t2.ano']\n",
      "['70000 > t2.salario', '2023 < t2.ano']\n",
      "[4]\n",
      "\n",
      "['t1.salario > t2.salario', 't1.ano < t2.ano']\n",
      "['48000 > t2.salario', '2023 < t2.ano']\n",
      "[]\n",
      "\n"
     ]
    }
   ],
   "source": [
    "for idx, line in df.iterrows():\n",
    "  left_resolved_constraints = resolve_left_side_constraints(line, constraints)\n",
    "  print(constraints)\n",
    "  print(left_resolved_constraints)\n",
    "  pandas_conditions = [ gen_pandas_condition(df, lcs) for lcs in left_resolved_constraints ]\n",
    "  pandas_conditions_set = reduce(lambda x, y: x & y, pandas_conditions)\n",
    "  print(df[pandas_conditions_set]['id'].to_list())\n",
    "  print()\n"
   ]
  },
  {
   "cell_type": "code",
   "execution_count": 11,
   "metadata": {},
   "outputs": [
    {
     "name": "stdout",
     "output_type": "stream",
     "text": [
      "   id   ano      departamento  salario   bonus  violations          targets\n",
      "0   1  2023  Recursos Humanos    50000   10000           0               []\n",
      "1   2  2023            Vendas    60000  350000           1              [4]\n",
      "2   3  2022        Tecnologia    75000  100000           5  [1, 2, 4, 5, 6]\n",
      "3   4  2024         Marketing    55000   80000           0               []\n",
      "4   5  2023        Financeiro    70000   90000           1              [4]\n",
      "5   6  2023         Operações    48000       0           0               []\n"
     ]
    }
   ],
   "source": [
    "tuples_qtd = df.shape[0]\n",
    "\n",
    "\n",
    "df['violations'] = 0\n",
    "df['targets'] = [[] for _ in range(tuples_qtd)]\n",
    "\n",
    "for idx, line in df.iterrows():\n",
    "  left_resolved_constraints = resolve_left_side_constraints(line, constraints)\n",
    "  pandas_conditions = [ gen_pandas_condition(df, lcs) for lcs in left_resolved_constraints ]\n",
    "  pandas_conditions_set = reduce(lambda x, y: x & y, pandas_conditions)\n",
    "  violations_ids = df[pandas_conditions_set]['id'].to_list()\n",
    "  df.at[idx, 'violations'] = len(violations_ids)\n",
    "  df.at[idx, 'targets'] = violations_ids\n",
    "\n",
    "print(df)"
   ]
  }
 ],
 "metadata": {
  "kernelspec": {
   "display_name": "Python 3",
   "language": "python",
   "name": "python3"
  },
  "language_info": {
   "codemirror_mode": {
    "name": "ipython",
    "version": 3
   },
   "file_extension": ".py",
   "mimetype": "text/x-python",
   "name": "python",
   "nbconvert_exporter": "python",
   "pygments_lexer": "ipython3",
   "version": "3.10.5"
  },
  "orig_nbformat": 4
 },
 "nbformat": 4,
 "nbformat_minor": 2
}
