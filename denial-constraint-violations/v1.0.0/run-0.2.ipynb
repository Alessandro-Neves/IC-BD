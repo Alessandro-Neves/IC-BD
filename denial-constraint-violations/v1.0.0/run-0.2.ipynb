{
 "cells": [
  {
   "cell_type": "code",
   "execution_count": 1,
   "metadata": {},
   "outputs": [
    {
     "name": "stdout",
     "output_type": "stream",
     "text": [
      "Requirement already satisfied: pandas in /home/alessandro/.asdf/installs/python/3.10.5/lib/python3.10/site-packages (1.5.2)\n",
      "Requirement already satisfied: numpy>=1.21.0 in /home/alessandro/.asdf/installs/python/3.10.5/lib/python3.10/site-packages (from pandas) (1.21.3)\n",
      "Requirement already satisfied: python-dateutil>=2.8.1 in /home/alessandro/.asdf/installs/python/3.10.5/lib/python3.10/site-packages (from pandas) (2.8.2)\n",
      "Requirement already satisfied: pytz>=2020.1 in /home/alessandro/.asdf/installs/python/3.10.5/lib/python3.10/site-packages (from pandas) (2023.3)\n",
      "Requirement already satisfied: six>=1.5 in /home/alessandro/.asdf/installs/python/3.10.5/lib/python3.10/site-packages (from python-dateutil>=2.8.1->pandas) (1.16.0)\n",
      "\u001b[33mWARNING: You are using pip version 22.0.4; however, version 23.2.1 is available.\n",
      "You should consider upgrading via the '/home/alessandro/.asdf/installs/python/3.10.5/bin/python3.10 -m pip install --upgrade pip' command.\u001b[0m\u001b[33m\n",
      "\u001b[0m"
     ]
    }
   ],
   "source": [
    "!pip install pandas"
   ]
  },
  {
   "cell_type": "code",
   "execution_count": 2,
   "metadata": {},
   "outputs": [
    {
     "name": "stdout",
     "output_type": "stream",
     "text": [
      "   id   ano      departamento  salario\n",
      "0   1  2023  Recursos Humanos    50000\n",
      "1   2  2023            Vendas    60000\n",
      "2   3  2023        Tecnologia    75000\n",
      "3   4  2023         Marketing    55000\n",
      "4   5  2023        Financeiro    70000\n",
      "5   6  2023         Operações    48000\n",
      "6   7  2023          Produção    52000\n"
     ]
    }
   ],
   "source": [
    "import pandas\n",
    "dataset = pandas.read_csv('db-a.csv')\n",
    "\n",
    "print(dataset)"
   ]
  },
  {
   "cell_type": "code",
   "execution_count": 3,
   "metadata": {},
   "outputs": [],
   "source": [
    "denial_constraint_violation = lambda t1, t2: t1['salario'] > t2['salario']"
   ]
  },
  {
   "cell_type": "code",
   "execution_count": 15,
   "metadata": {},
   "outputs": [
    {
     "name": "stdout",
     "output_type": "stream",
     "text": [
      "7\n",
      "   id   ano      departamento  salario violation\n",
      "0   1  2023  Recursos Humanos    50000      True\n",
      "1   2  2023            Vendas    60000      True\n",
      "2   3  2023        Tecnologia    75000      True\n",
      "3   4  2023         Marketing    55000      True\n",
      "4   5  2023        Financeiro    70000      True\n",
      "5   6  2023         Operações    48000     False\n",
      "6   7  2023          Produção    52000      True\n"
     ]
    }
   ],
   "source": [
    "tuples_qtd = dataset.shape[0]\n",
    "\n",
    "for t1_idx in range(tuples_qtd):\n",
    "  for t2_idx in range(t1_idx + 1, tuples_qtd):\n",
    "    t1 = dataset.iloc[t1_idx]\n",
    "    t2 = dataset.iloc[t2_idx]\n",
    "    dataset.at[t1_idx, 'violation'] = True if dataset.at[t1_idx, 'violation'] or denial_constraint_violation(t1, t2) else False\n",
    "    dataset.at[t2_idx, 'violation'] = True if dataset.at[t2_idx, 'violation'] or denial_constraint_violation(t2, t1) else False\n",
    "\n",
    "print(dataset)\n"
   ]
  }
 ],
 "metadata": {
  "kernelspec": {
   "display_name": "Python 3",
   "language": "python",
   "name": "python3"
  },
  "language_info": {
   "codemirror_mode": {
    "name": "ipython",
    "version": 3
   },
   "file_extension": ".py",
   "mimetype": "text/x-python",
   "name": "python",
   "nbconvert_exporter": "python",
   "pygments_lexer": "ipython3",
   "version": "3.10.5"
  },
  "orig_nbformat": 4
 },
 "nbformat": 4,
 "nbformat_minor": 2
}
