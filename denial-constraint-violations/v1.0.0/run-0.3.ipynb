{
 "cells": [
  {
   "cell_type": "code",
   "execution_count": 1,
   "metadata": {},
   "outputs": [
    {
     "name": "stdout",
     "output_type": "stream",
     "text": [
      "Requirement already satisfied: pandas in /home/alessandro/.asdf/installs/python/3.10.5/lib/python3.10/site-packages (1.5.2)\n",
      "Requirement already satisfied: python-dateutil>=2.8.1 in /home/alessandro/.asdf/installs/python/3.10.5/lib/python3.10/site-packages (from pandas) (2.8.2)\n",
      "Requirement already satisfied: pytz>=2020.1 in /home/alessandro/.asdf/installs/python/3.10.5/lib/python3.10/site-packages (from pandas) (2023.3)\n",
      "Requirement already satisfied: numpy>=1.21.0 in /home/alessandro/.asdf/installs/python/3.10.5/lib/python3.10/site-packages (from pandas) (1.21.3)\n",
      "Requirement already satisfied: six>=1.5 in /home/alessandro/.asdf/installs/python/3.10.5/lib/python3.10/site-packages (from python-dateutil>=2.8.1->pandas) (1.16.0)\n",
      "\u001b[33mWARNING: You are using pip version 22.0.4; however, version 23.2.1 is available.\n",
      "You should consider upgrading via the '/home/alessandro/.asdf/installs/python/3.10.5/bin/python3.10 -m pip install --upgrade pip' command.\u001b[0m\u001b[33m\n",
      "\u001b[0m"
     ]
    }
   ],
   "source": [
    "!pip install pandas"
   ]
  },
  {
   "cell_type": "code",
   "execution_count": 23,
   "metadata": {},
   "outputs": [
    {
     "name": "stdout",
     "output_type": "stream",
     "text": [
      "['t1.salario > t2.salario', 't1.id = t2.id']\n",
      "\n",
      "   id   ano      departamento  salario\n",
      "0   1  2023  Recursos Humanos    50000\n",
      "1   2  2023            Vendas    60000\n",
      "2   3  2023        Tecnologia    75000\n",
      "3   4  2023         Marketing    55000\n",
      "4   5  2023        Financeiro    70000\n",
      "5   6  2023         Operações    48000\n",
      "6   7  2023          Produção    52000\n"
     ]
    }
   ],
   "source": [
    "import pandas\n",
    "dataset = pandas.read_csv('db-a.csv')\n",
    "\n",
    "with open('constraints.txt', 'r') as file:\n",
    "    first_line = file.readline().strip()\n",
    "\n",
    "constraints = first_line.split(',')\n",
    "\n",
    "# print(dataset)\n",
    "print(constraints)\n",
    "print()\n",
    "print(dataset)"
   ]
  },
  {
   "cell_type": "code",
   "execution_count": 17,
   "metadata": {},
   "outputs": [],
   "source": [
    "def split_components(predicate):\n",
    "    components = predicate.split(' ')\n",
    "    return {\n",
    "        't1_col': components[0].split('.')[1],\n",
    "        't2_col': components[2].split('.')[1],\n",
    "        'operator': components[1]\n",
    "    }"
   ]
  },
  {
   "cell_type": "code",
   "execution_count": 22,
   "metadata": {},
   "outputs": [
    {
     "name": "stdout",
     "output_type": "stream",
     "text": [
      "{'t1_col': 'salario', 't2_col': 'salario', 'operator': '>'}\n",
      "True\n"
     ]
    }
   ],
   "source": [
    "operators = {\n",
    "  '>': lambda a, b: a > b,\n",
    "  '<': lambda a, b: a < b,\n",
    "  '=': lambda a, b: a == b,\n",
    "}\n",
    "\n",
    "def predicate_to_lambda_func(predicate):\n",
    "  pc = split_components(predicate)\n",
    "  print(pc)\n",
    "  return lambda t1, t2: operators[pc['operator']](t1[pc['t1_col']], t2[pc['t2_col']])\n",
    "\n",
    "contraint_lambda = predicate_to_lambda_func(constraints[0])\n",
    "result = contraint_lambda(dataset.iloc[2], dataset.iloc[3])\n",
    "print(result)"
   ]
  }
 ],
 "metadata": {
  "kernelspec": {
   "display_name": "Python 3",
   "language": "python",
   "name": "python3"
  },
  "language_info": {
   "codemirror_mode": {
    "name": "ipython",
    "version": 3
   },
   "file_extension": ".py",
   "mimetype": "text/x-python",
   "name": "python",
   "nbconvert_exporter": "python",
   "pygments_lexer": "ipython3",
   "version": "3.10.5"
  },
  "orig_nbformat": 4
 },
 "nbformat": 4,
 "nbformat_minor": 2
}
