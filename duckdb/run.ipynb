{
 "cells": [
  {
   "cell_type": "code",
   "execution_count": 1,
   "metadata": {},
   "outputs": [],
   "source": [
    "import duckdb\n",
    "import pandas\n",
    "import time"
   ]
  },
  {
   "cell_type": "code",
   "execution_count": 13,
   "metadata": {},
   "outputs": [
    {
     "name": "stdout",
     "output_type": "stream",
     "text": [
      "0.002332151000700833\n",
      "0.014407912999558903\n",
      "\n",
      "1\n",
      "1\n"
     ]
    }
   ],
   "source": [
    "duck_conn = duckdb.connect() # type: ignore\n",
    "\n",
    "# data = duckconn.execute(\n",
    "#   \"\"\"\n",
    "#     SELECT * \n",
    "#     FROM spotify_170k.csv \n",
    "#     LIMIT 10\n",
    "#   \"\"\"\n",
    "# ).df()\n",
    "\n",
    "data = pandas.read_csv(\"spotify_170k.csv\")\n",
    "duck_conn.execute(\"CREATE TABLE t as SELECT * FROM 'spotify_170k.csv'\")\n",
    "duck_table = duck_conn.table('t')\n",
    "# T = duckdb.register(\"T\", data) # type: ignore\n",
    "\n",
    "\n",
    "# t = T.table(\"T\")\n",
    "# table = duckconn.table()\n",
    "\n",
    "# WHERE duration_ms = 314933 AND release_date = 1968\n",
    "\n",
    "cur_time = time.monotonic()\n",
    "r1 = duck_conn.execute(\"SELECT * FROM T WHERE duration_ms = 314933 AND release_date = 1968 AND year = 1968\").df()\n",
    "# r1 = duck_table.filter(data, \"durantion_ms == 158648\") # type: ignore\n",
    "end_time = time.monotonic()\n",
    "\n",
    "print(end_time - cur_time)\n",
    "\n",
    "cur_time = time.monotonic()\n",
    "r2 = data[(data['duration_ms'] == 314933) & (data['release_date'] == '1968') & (data['year'] == 1968)]\n",
    "end_time = time.monotonic()\n",
    "\n",
    "print(end_time - cur_time)\n",
    "\n",
    "print()\n",
    "print(len(r1))\n",
    "print(len(r2))\n",
    "\n",
    "# print(r1)\n",
    "# print(r2)"
   ]
  },
  {
   "cell_type": "code",
   "execution_count": 41,
   "metadata": {},
   "outputs": [
    {
     "name": "stdout",
     "output_type": "stream",
     "text": [
      "2075\n",
      "3PLwHVg2COn0zkxdGOL1TM\n",
      "<pandas.core.indexing._iLocIndexer object at 0x7f8a4f0775b0>\n"
     ]
    }
   ],
   "source": [
    "res = duck_conn.execute(\"\"\"\n",
    "    SELECT * \n",
    "    FROM \n",
    "        T t1 \n",
    "    JOIN \n",
    "        T t2 \n",
    "    ON \n",
    "        t1.duration_ms = t2.duration_ms \n",
    "    AND\n",
    "        t1.danceability = t1.energy\n",
    "    AND \n",
    "      t1.id <> t2.id;\n",
    "  \"\"\").df()\n",
    "\n",
    "print(len(res))\n",
    "\n",
    "if len(res):\n",
    "  print(res.at[0, 'id'])\n",
    "  print(res.iloc(0))"
   ]
  },
  {
   "cell_type": "code",
   "execution_count": 6,
   "metadata": {},
   "outputs": [],
   "source": [
    "duck_conn.close()"
   ]
  }
 ],
 "metadata": {
  "kernelspec": {
   "display_name": "Python 3",
   "language": "python",
   "name": "python3"
  },
  "language_info": {
   "codemirror_mode": {
    "name": "ipython",
    "version": 3
   },
   "file_extension": ".py",
   "mimetype": "text/x-python",
   "name": "python",
   "nbconvert_exporter": "python",
   "pygments_lexer": "ipython3",
   "version": "3.10.5"
  },
  "orig_nbformat": 4
 },
 "nbformat": 4,
 "nbformat_minor": 2
}
